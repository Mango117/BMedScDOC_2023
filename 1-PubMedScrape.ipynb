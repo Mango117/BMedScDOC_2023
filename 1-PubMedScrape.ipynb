{
 "cells": [
  {
   "cell_type": "markdown",
   "id": "b2031871-b61a-46ef-8b50-954f25b6c577",
   "metadata": {},
   "source": [
    "# Step 1 - Retrieve PubMed PMIDs\n",
    "\n",
    "PubMed has imposed a new limit of 10,000 records per retrieval\n",
    "\n",
    "Thus, I split my query into 5 batches, each one spanning 3 years of publication dates\n",
    "\n",
    "Each query filtered for studies that were not systematic reviews, meta-analyses or reviews\n",
    "\n",
    "`esearch -db pubmed -query \"(((Disorders of consciousness) NOT (\\\"review\\\"[Publication Type])) NOT (\\\"systematic review\\\"[Publication Type])) NOT (\\\"meta analysis\\\"[Publication Type])\"`"
   ]
  },
  {
   "cell_type": "markdown",
   "id": "10403492-745b-4c1d-a138-9fbb751b77dd",
   "metadata": {},
   "source": [
    "These are the 5 queries that were made to retrieve PMIDs for studies done between 2000 and 2023\n",
    "\n",
    "```esearch -db pubmed -query \"(((Disorders of consciousness) NOT (\\\"review\\\"[Publication Type])) NOT (\\\"systematic review\\\"[Publication Type])) NOT (\\\"meta analysis\\\"[Publication Type])\" -datetype PDAT -mindate 2016 -maxdate 2019 | efetch -db pubmed -format uid > PMID2016-2019.txt```\n",
    "\n",
    "```esearch -db pubmed -query \"(((Disorders of consciousness) NOT (\\\"review\\\"[Publication Type])) NOT (\\\"systematic review\\\"[Publication Type])) NOT (\\\"meta analysis\\\"[Publication Type])\" -datetype PDAT -mindate 2012 -maxdate 2015 | efetch -db pubmed -format uid > PMID2012-2015.txt```\n",
    "\n",
    "```esearch -db pubmed -query \"(((Disorders of consciousness) NOT (\\\"review\\\"[Publication Type])) NOT (\\\"systematic review\\\"[Publication Type])) NOT (\\\"meta analysis\\\"[Publication Type])\" -datetype PDAT -mindate 2008 -maxdate 2011 | efetch -db pubmed -format uid > PMID2008-2011.txt```\n",
    "\n",
    "```esearch -db pubmed -query \"(((Disorders of consciousness) NOT (\\\"review\\\"[Publication Type])) NOT (\\\"systematic review\\\"[Publication Type])) NOT (\\\"meta analysis\\\"[Publication Type])\" -datetype PDAT -mindate 2004 -maxdate 2007 | efetch -db pubmed -format uid > PMID2004-2007.txt```\n",
    "\n",
    "```esearch -db pubmed -query \"(((Disorders of consciousness) NOT (\\\"review\\\"[Publication Type])) NOT (\\\"systematic review\\\"[Publication Type])) NOT (\\\"meta analysis\\\"[Publication Type])\" -datetype PDAT -mindate 2000 -maxdate 2003 | efetch -db pubmed -format uid > PMID2000-2003.txt```"
   ]
  },
  {
   "cell_type": "markdown",
   "id": "6ebc0030-ca45-420f-b6db-ae91af14c846",
   "metadata": {},
   "source": [
    "\n",
    "These were then concatenated into a single file:\n",
    "    \n",
    "`cat PMID2000-2003.txt PMID2004-2007.txt PMID2008-2011.txt PMID2012-2015.txt PMID2016-2019.txt PMID2020-2023.txt > PMID2000-2023.txt`\n",
    "\n",
    "This file had a total of 24944 PMIDs"
   ]
  },
  {
   "cell_type": "code",
   "execution_count": null,
   "id": "8d6aafaf-69ea-4ebb-a2a0-5a19ee91c74d",
   "metadata": {},
   "outputs": [],
   "source": []
  }
 ],
 "metadata": {
  "kernelspec": {
   "display_name": "Python 3 (ipykernel)",
   "language": "python",
   "name": "python3"
  },
  "language_info": {
   "codemirror_mode": {
    "name": "ipython",
    "version": 3
   },
   "file_extension": ".py",
   "mimetype": "text/x-python",
   "name": "python",
   "nbconvert_exporter": "python",
   "pygments_lexer": "ipython3",
   "version": "3.9.4"
  }
 },
 "nbformat": 4,
 "nbformat_minor": 5
}
